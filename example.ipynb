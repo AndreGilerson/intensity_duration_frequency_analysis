{
 "cells": [
  {
   "cell_type": "code",
   "execution_count": 1,
   "metadata": {
    "scrolled": false
   },
   "outputs": [],
   "source": [
    "from idf_analysis.idf_class import IntensityDurationFrequencyAnalyse\n",
    "from idf_analysis.definitions import *\n",
    "import pandas as pd\n",
    "%matplotlib inline"
   ]
  },
  {
   "cell_type": "markdown",
   "metadata": {},
   "source": [
    "# Intensity Duration Frequency Analyse"
   ]
  },
  {
   "cell_type": "markdown",
   "metadata": {},
   "source": [
    "## Parameter\n",
    "\n",
    "**series_kind**:\n",
    "\n",
    "`PARTIAL` = Partielle Serie (partial duration series, PDS) (peak over threshold, POT)\n",
    "\n",
    "`ANNUAL` = Jährliche Serie (annual maximum series, AMS)\n",
    "\n",
    "**worksheet**:\n",
    "\n",
    "`DWA`:\n",
    "- DWA-A 531\n",
    "- KOSTRA - empfohlen\n",
    "- Stützstellen: 60min und 12h\n",
    "\n",
    "`DWA-adv`:\n",
    "- DWA-A 531\n",
    "- Unterscheidung in überwiegend konvektiv und advektiv verursachte Starkregen\n",
    "- Stützstellen: 3h und 24h\n",
    "\n",
    "`ATV`:\n",
    "- ATV-A 121\n",
    "- Stützstellen: 3h und 48h\n",
    "\n",
    "**output_path** = Pfad zum Speichern\n",
    "\n",
    "**extended_durations** = Inkludiert die Dauerstufen `[720, 1080, 1440, 2880, 4320, 5760, 7200, 8640]` in der Analyse\n",
    "\n"
   ]
  },
  {
   "cell_type": "code",
   "execution_count": 2,
   "metadata": {},
   "outputs": [],
   "source": [
    "out = 'example'\n",
    "name = 'EXAMPLE'\n",
    "idf = IntensityDurationFrequencyAnalyse(series_kind=PARTIAL, worksheet=DWA, output_path=out,\n",
    "                                            extended_durations=True, output_filename=name,\n",
    "                                            auto_save=True, unix=True)"
   ]
  },
  {
   "cell_type": "markdown",
   "metadata": {},
   "source": [
    "Es wird nun ein Ordner `<name>_data` erstellt in `<out>`"
   ]
  },
  {
   "cell_type": "code",
   "execution_count": 3,
   "metadata": {},
   "outputs": [],
   "source": [
    "data = pd.read_parquet('example/expample_rain_data.parquet')"
   ]
  },
  {
   "cell_type": "code",
   "execution_count": 4,
   "metadata": {},
   "outputs": [
    {
     "data": {
      "text/html": [
       "<div>\n",
       "<style scoped>\n",
       "    .dataframe tbody tr th:only-of-type {\n",
       "        vertical-align: middle;\n",
       "    }\n",
       "\n",
       "    .dataframe tbody tr th {\n",
       "        vertical-align: top;\n",
       "    }\n",
       "\n",
       "    .dataframe thead th {\n",
       "        text-align: right;\n",
       "    }\n",
       "</style>\n",
       "<table border=\"1\" class=\"dataframe\">\n",
       "  <thead>\n",
       "    <tr style=\"text-align: right;\">\n",
       "      <th></th>\n",
       "      <th>precipitation</th>\n",
       "    </tr>\n",
       "    <tr>\n",
       "      <th>datetime</th>\n",
       "      <th></th>\n",
       "    </tr>\n",
       "  </thead>\n",
       "  <tbody>\n",
       "    <tr>\n",
       "      <th>1984-06-18 07:01:00</th>\n",
       "      <td>0.0</td>\n",
       "    </tr>\n",
       "    <tr>\n",
       "      <th>1984-06-18 07:02:00</th>\n",
       "      <td>0.0</td>\n",
       "    </tr>\n",
       "    <tr>\n",
       "      <th>1984-06-18 07:03:00</th>\n",
       "      <td>0.0</td>\n",
       "    </tr>\n",
       "    <tr>\n",
       "      <th>1984-06-18 07:04:00</th>\n",
       "      <td>0.0</td>\n",
       "    </tr>\n",
       "    <tr>\n",
       "      <th>1984-06-18 07:05:00</th>\n",
       "      <td>0.0</td>\n",
       "    </tr>\n",
       "  </tbody>\n",
       "</table>\n",
       "</div>"
      ],
      "text/plain": [
       "                     precipitation\n",
       "datetime                          \n",
       "1984-06-18 07:01:00            0.0\n",
       "1984-06-18 07:02:00            0.0\n",
       "1984-06-18 07:03:00            0.0\n",
       "1984-06-18 07:04:00            0.0\n",
       "1984-06-18 07:05:00            0.0"
      ]
     },
     "execution_count": 4,
     "metadata": {},
     "output_type": "execute_result"
    }
   ],
   "source": [
    "data.head()"
   ]
  },
  {
   "cell_type": "code",
   "execution_count": 5,
   "metadata": {},
   "outputs": [
    {
     "data": {
      "text/html": [
       "<div>\n",
       "<style scoped>\n",
       "    .dataframe tbody tr th:only-of-type {\n",
       "        vertical-align: middle;\n",
       "    }\n",
       "\n",
       "    .dataframe tbody tr th {\n",
       "        vertical-align: top;\n",
       "    }\n",
       "\n",
       "    .dataframe thead th {\n",
       "        text-align: right;\n",
       "    }\n",
       "</style>\n",
       "<table border=\"1\" class=\"dataframe\">\n",
       "  <thead>\n",
       "    <tr style=\"text-align: right;\">\n",
       "      <th></th>\n",
       "      <th>precipitation</th>\n",
       "    </tr>\n",
       "    <tr>\n",
       "      <th>datetime</th>\n",
       "      <th></th>\n",
       "    </tr>\n",
       "  </thead>\n",
       "  <tbody>\n",
       "    <tr>\n",
       "      <th>2015-12-31 23:56:00</th>\n",
       "      <td>0.0</td>\n",
       "    </tr>\n",
       "    <tr>\n",
       "      <th>2015-12-31 23:57:00</th>\n",
       "      <td>0.0</td>\n",
       "    </tr>\n",
       "    <tr>\n",
       "      <th>2015-12-31 23:58:00</th>\n",
       "      <td>0.0</td>\n",
       "    </tr>\n",
       "    <tr>\n",
       "      <th>2015-12-31 23:59:00</th>\n",
       "      <td>0.0</td>\n",
       "    </tr>\n",
       "    <tr>\n",
       "      <th>2016-01-01 00:00:00</th>\n",
       "      <td>NaN</td>\n",
       "    </tr>\n",
       "  </tbody>\n",
       "</table>\n",
       "</div>"
      ],
      "text/plain": [
       "                     precipitation\n",
       "datetime                          \n",
       "2015-12-31 23:56:00            0.0\n",
       "2015-12-31 23:57:00            0.0\n",
       "2015-12-31 23:58:00            0.0\n",
       "2015-12-31 23:59:00            0.0\n",
       "2016-01-01 00:00:00            NaN"
      ]
     },
     "execution_count": 5,
     "metadata": {},
     "output_type": "execute_result"
    }
   ],
   "source": [
    "data.tail()"
   ]
  },
  {
   "cell_type": "code",
   "execution_count": 6,
   "metadata": {},
   "outputs": [],
   "source": [
    "idf.set_series(data['precipitation'])"
   ]
  },
  {
   "cell_type": "markdown",
   "metadata": {},
   "source": [
    "Bei jeder neuen Berechnung werden Zwischenergebnisse erstellt, welche nur abhängig von der gewählten Serie `series_kind`sind. Dieser Vorgang dauert einige Sekunden.\n",
    "\n",
    "Abgerufen können diese Zwischenergebnisse mit:\n",
    "\n",
    "(Dies Operation geschieht im Hintergrund und muss nicht explizit durchgeführt werden.)"
   ]
  },
  {
   "cell_type": "code",
   "execution_count": 7,
   "metadata": {},
   "outputs": [
    {
     "data": {
      "text/html": [
       "<div>\n",
       "<style scoped>\n",
       "    .dataframe tbody tr th:only-of-type {\n",
       "        vertical-align: middle;\n",
       "    }\n",
       "\n",
       "    .dataframe tbody tr th {\n",
       "        vertical-align: top;\n",
       "    }\n",
       "\n",
       "    .dataframe thead th {\n",
       "        text-align: right;\n",
       "    }\n",
       "</style>\n",
       "<table border=\"1\" class=\"dataframe\">\n",
       "  <thead>\n",
       "    <tr style=\"text-align: right;\">\n",
       "      <th></th>\n",
       "      <th>u</th>\n",
       "      <th>w</th>\n",
       "    </tr>\n",
       "    <tr>\n",
       "      <th>duration</th>\n",
       "      <th></th>\n",
       "      <th></th>\n",
       "    </tr>\n",
       "  </thead>\n",
       "  <tbody>\n",
       "    <tr>\n",
       "      <th>5</th>\n",
       "      <td>4.892919</td>\n",
       "      <td>1.898484</td>\n",
       "    </tr>\n",
       "    <tr>\n",
       "      <th>10</th>\n",
       "      <td>7.755988</td>\n",
       "      <td>3.462260</td>\n",
       "    </tr>\n",
       "    <tr>\n",
       "      <th>15</th>\n",
       "      <td>9.507452</td>\n",
       "      <td>4.478862</td>\n",
       "    </tr>\n",
       "    <tr>\n",
       "      <th>20</th>\n",
       "      <td>10.810765</td>\n",
       "      <td>5.007685</td>\n",
       "    </tr>\n",
       "    <tr>\n",
       "      <th>30</th>\n",
       "      <td>12.564117</td>\n",
       "      <td>5.356536</td>\n",
       "    </tr>\n",
       "    <tr>\n",
       "      <th>45</th>\n",
       "      <td>14.835755</td>\n",
       "      <td>5.571916</td>\n",
       "    </tr>\n",
       "    <tr>\n",
       "      <th>60</th>\n",
       "      <td>17.040537</td>\n",
       "      <td>6.284027</td>\n",
       "    </tr>\n",
       "    <tr>\n",
       "      <th>90</th>\n",
       "      <td>19.245340</td>\n",
       "      <td>7.741161</td>\n",
       "    </tr>\n",
       "    <tr>\n",
       "      <th>180</th>\n",
       "      <td>22.858734</td>\n",
       "      <td>8.314070</td>\n",
       "    </tr>\n",
       "    <tr>\n",
       "      <th>270</th>\n",
       "      <td>25.408149</td>\n",
       "      <td>8.133576</td>\n",
       "    </tr>\n",
       "    <tr>\n",
       "      <th>360</th>\n",
       "      <td>27.554024</td>\n",
       "      <td>8.258537</td>\n",
       "    </tr>\n",
       "    <tr>\n",
       "      <th>450</th>\n",
       "      <td>28.938074</td>\n",
       "      <td>8.240661</td>\n",
       "    </tr>\n",
       "    <tr>\n",
       "      <th>600</th>\n",
       "      <td>31.155736</td>\n",
       "      <td>8.739081</td>\n",
       "    </tr>\n",
       "    <tr>\n",
       "      <th>720</th>\n",
       "      <td>32.766427</td>\n",
       "      <td>8.942815</td>\n",
       "    </tr>\n",
       "    <tr>\n",
       "      <th>720</th>\n",
       "      <td>32.766427</td>\n",
       "      <td>8.942815</td>\n",
       "    </tr>\n",
       "    <tr>\n",
       "      <th>1080</th>\n",
       "      <td>36.606037</td>\n",
       "      <td>9.290285</td>\n",
       "    </tr>\n",
       "    <tr>\n",
       "      <th>1440</th>\n",
       "      <td>39.115447</td>\n",
       "      <td>10.129630</td>\n",
       "    </tr>\n",
       "    <tr>\n",
       "      <th>2880</th>\n",
       "      <td>46.628694</td>\n",
       "      <td>15.042028</td>\n",
       "    </tr>\n",
       "    <tr>\n",
       "      <th>4320</th>\n",
       "      <td>51.221809</td>\n",
       "      <td>17.304963</td>\n",
       "    </tr>\n",
       "    <tr>\n",
       "      <th>5760</th>\n",
       "      <td>53.601510</td>\n",
       "      <td>18.677084</td>\n",
       "    </tr>\n",
       "    <tr>\n",
       "      <th>7200</th>\n",
       "      <td>55.549644</td>\n",
       "      <td>19.527086</td>\n",
       "    </tr>\n",
       "    <tr>\n",
       "      <th>8640</th>\n",
       "      <td>57.752138</td>\n",
       "      <td>20.580177</td>\n",
       "    </tr>\n",
       "  </tbody>\n",
       "</table>\n",
       "</div>"
      ],
      "text/plain": [
       "                  u          w\n",
       "duration                      \n",
       "5          4.892919   1.898484\n",
       "10         7.755988   3.462260\n",
       "15         9.507452   4.478862\n",
       "20        10.810765   5.007685\n",
       "30        12.564117   5.356536\n",
       "45        14.835755   5.571916\n",
       "60        17.040537   6.284027\n",
       "90        19.245340   7.741161\n",
       "180       22.858734   8.314070\n",
       "270       25.408149   8.133576\n",
       "360       27.554024   8.258537\n",
       "450       28.938074   8.240661\n",
       "600       31.155736   8.739081\n",
       "720       32.766427   8.942815\n",
       "720       32.766427   8.942815\n",
       "1080      36.606037   9.290285\n",
       "1440      39.115447  10.129630\n",
       "2880      46.628694  15.042028\n",
       "4320      51.221809  17.304963\n",
       "5760      53.601510  18.677084\n",
       "7200      55.549644  19.527086\n",
       "8640      57.752138  20.580177"
      ]
     },
     "execution_count": 7,
     "metadata": {},
     "output_type": "execute_result"
    }
   ],
   "source": [
    "idf.interim_results"
   ]
  },
  {
   "cell_type": "markdown",
   "metadata": {},
   "source": [
    "Ist `auto_save=True` werden die Zwischenergebnisse je Serie (abhängig von `output_path` und `output_filename`) in die csv-Datei `<name>_interim_results.csv` geschrieben.\n",
    "Dies wird empfohlen da jeder neue Aufruf etwas Zeit beansprucht und dadurch die Bereichnung verkürzt wird."
   ]
  },
  {
   "cell_type": "code",
   "execution_count": 8,
   "metadata": {
    "scrolled": true
   },
   "outputs": [
    {
     "name": "stdout",
     "output_type": "stream",
     "text": [
      "\u001b[01;34mexample/EXAMPLE_data\u001b[00m\r\n",
      "└── EXAMPLE_interim_results.csv\r\n",
      "\r\n",
      "0 directories, 1 file\r\n"
     ]
    }
   ],
   "source": [
    "! tree example/EXAMPLE_data"
   ]
  },
  {
   "cell_type": "code",
   "execution_count": 9,
   "metadata": {},
   "outputs": [
    {
     "data": {
      "text/html": [
       "<div>\n",
       "<style scoped>\n",
       "    .dataframe tbody tr th:only-of-type {\n",
       "        vertical-align: middle;\n",
       "    }\n",
       "\n",
       "    .dataframe tbody tr th {\n",
       "        vertical-align: top;\n",
       "    }\n",
       "\n",
       "    .dataframe thead th {\n",
       "        text-align: right;\n",
       "    }\n",
       "</style>\n",
       "<table border=\"1\" class=\"dataframe\">\n",
       "  <thead>\n",
       "    <tr style=\"text-align: right;\">\n",
       "      <th></th>\n",
       "      <th>u</th>\n",
       "      <th>w</th>\n",
       "    </tr>\n",
       "    <tr>\n",
       "      <th>duration</th>\n",
       "      <th></th>\n",
       "      <th></th>\n",
       "    </tr>\n",
       "  </thead>\n",
       "  <tbody>\n",
       "    <tr>\n",
       "      <th>5</th>\n",
       "      <td>4.892919</td>\n",
       "      <td>1.898484</td>\n",
       "    </tr>\n",
       "    <tr>\n",
       "      <th>10</th>\n",
       "      <td>7.755988</td>\n",
       "      <td>3.462260</td>\n",
       "    </tr>\n",
       "    <tr>\n",
       "      <th>15</th>\n",
       "      <td>9.507452</td>\n",
       "      <td>4.478862</td>\n",
       "    </tr>\n",
       "    <tr>\n",
       "      <th>20</th>\n",
       "      <td>10.810765</td>\n",
       "      <td>5.007685</td>\n",
       "    </tr>\n",
       "    <tr>\n",
       "      <th>30</th>\n",
       "      <td>12.564117</td>\n",
       "      <td>5.356536</td>\n",
       "    </tr>\n",
       "    <tr>\n",
       "      <th>45</th>\n",
       "      <td>14.835755</td>\n",
       "      <td>5.571916</td>\n",
       "    </tr>\n",
       "    <tr>\n",
       "      <th>60</th>\n",
       "      <td>17.040537</td>\n",
       "      <td>6.284027</td>\n",
       "    </tr>\n",
       "    <tr>\n",
       "      <th>90</th>\n",
       "      <td>19.245340</td>\n",
       "      <td>7.741161</td>\n",
       "    </tr>\n",
       "    <tr>\n",
       "      <th>180</th>\n",
       "      <td>22.858734</td>\n",
       "      <td>8.314070</td>\n",
       "    </tr>\n",
       "    <tr>\n",
       "      <th>270</th>\n",
       "      <td>25.408149</td>\n",
       "      <td>8.133576</td>\n",
       "    </tr>\n",
       "    <tr>\n",
       "      <th>360</th>\n",
       "      <td>27.554024</td>\n",
       "      <td>8.258537</td>\n",
       "    </tr>\n",
       "    <tr>\n",
       "      <th>450</th>\n",
       "      <td>28.938074</td>\n",
       "      <td>8.240661</td>\n",
       "    </tr>\n",
       "    <tr>\n",
       "      <th>600</th>\n",
       "      <td>31.155736</td>\n",
       "      <td>8.739081</td>\n",
       "    </tr>\n",
       "    <tr>\n",
       "      <th>720</th>\n",
       "      <td>32.766427</td>\n",
       "      <td>8.942815</td>\n",
       "    </tr>\n",
       "    <tr>\n",
       "      <th>720</th>\n",
       "      <td>32.766427</td>\n",
       "      <td>8.942815</td>\n",
       "    </tr>\n",
       "    <tr>\n",
       "      <th>1080</th>\n",
       "      <td>36.606037</td>\n",
       "      <td>9.290285</td>\n",
       "    </tr>\n",
       "    <tr>\n",
       "      <th>1440</th>\n",
       "      <td>39.115447</td>\n",
       "      <td>10.129630</td>\n",
       "    </tr>\n",
       "    <tr>\n",
       "      <th>2880</th>\n",
       "      <td>46.628694</td>\n",
       "      <td>15.042028</td>\n",
       "    </tr>\n",
       "    <tr>\n",
       "      <th>4320</th>\n",
       "      <td>51.221809</td>\n",
       "      <td>17.304963</td>\n",
       "    </tr>\n",
       "    <tr>\n",
       "      <th>5760</th>\n",
       "      <td>53.601510</td>\n",
       "      <td>18.677084</td>\n",
       "    </tr>\n",
       "    <tr>\n",
       "      <th>7200</th>\n",
       "      <td>55.549644</td>\n",
       "      <td>19.527086</td>\n",
       "    </tr>\n",
       "    <tr>\n",
       "      <th>8640</th>\n",
       "      <td>57.752138</td>\n",
       "      <td>20.580177</td>\n",
       "    </tr>\n",
       "  </tbody>\n",
       "</table>\n",
       "</div>"
      ],
      "text/plain": [
       "                  u          w\n",
       "duration                      \n",
       "5          4.892919   1.898484\n",
       "10         7.755988   3.462260\n",
       "15         9.507452   4.478862\n",
       "20        10.810765   5.007685\n",
       "30        12.564117   5.356536\n",
       "45        14.835755   5.571916\n",
       "60        17.040537   6.284027\n",
       "90        19.245340   7.741161\n",
       "180       22.858734   8.314070\n",
       "270       25.408149   8.133576\n",
       "360       27.554024   8.258537\n",
       "450       28.938074   8.240661\n",
       "600       31.155736   8.739081\n",
       "720       32.766427   8.942815\n",
       "720       32.766427   8.942815\n",
       "1080      36.606037   9.290285\n",
       "1440      39.115447  10.129630\n",
       "2880      46.628694  15.042028\n",
       "4320      51.221809  17.304963\n",
       "5760      53.601510  18.677084\n",
       "7200      55.549644  19.527086\n",
       "8640      57.752138  20.580177"
      ]
     },
     "execution_count": 9,
     "metadata": {},
     "output_type": "execute_result"
    }
   ],
   "source": [
    "pd.read_csv(idf.output_filename + '_interim_results.csv', index_col=0)"
   ]
  },
  {
   "cell_type": "markdown",
   "metadata": {},
   "source": [
    "Aus diesen Zwischenergebnissen werden in weiterer Folge die Parameter zur Berechnung der Regenhöhe und Regenspende ermittelt.\n",
    "\n",
    "Hier sind bereist die Berechnungsverfahren und Stückpunkte laut dem gewählten `worksheet` berücksichtigt.\n",
    "\n",
    "(Dies Operation geschieht ebenfalls im Hintergrund und muss nicht explizit durchgeführt werden.)"
   ]
  },
  {
   "cell_type": "code",
   "execution_count": 10,
   "metadata": {},
   "outputs": [
    {
     "data": {
      "text/html": [
       "<div>\n",
       "<style scoped>\n",
       "    .dataframe tbody tr th:only-of-type {\n",
       "        vertical-align: middle;\n",
       "    }\n",
       "\n",
       "    .dataframe tbody tr th {\n",
       "        vertical-align: top;\n",
       "    }\n",
       "\n",
       "    .dataframe thead th {\n",
       "        text-align: right;\n",
       "    }\n",
       "</style>\n",
       "<table border=\"1\" class=\"dataframe\">\n",
       "  <thead>\n",
       "    <tr style=\"text-align: right;\">\n",
       "      <th></th>\n",
       "      <th>von</th>\n",
       "      <th>bis</th>\n",
       "      <th>u</th>\n",
       "      <th>w</th>\n",
       "      <th>a_u</th>\n",
       "      <th>b_u</th>\n",
       "      <th>a_w</th>\n",
       "      <th>b_w</th>\n",
       "    </tr>\n",
       "  </thead>\n",
       "  <tbody>\n",
       "    <tr>\n",
       "      <th>0</th>\n",
       "      <td>0</td>\n",
       "      <td>60</td>\n",
       "      <td>hyperbolic</td>\n",
       "      <td>double_logarithmic</td>\n",
       "      <td>22.062868</td>\n",
       "      <td>19.345155</td>\n",
       "      <td>0.157064</td>\n",
       "      <td>0.435379</td>\n",
       "    </tr>\n",
       "    <tr>\n",
       "      <th>1</th>\n",
       "      <td>60</td>\n",
       "      <td>720</td>\n",
       "      <td>double_logarithmic</td>\n",
       "      <td>double_logarithmic</td>\n",
       "      <td>1.690632</td>\n",
       "      <td>0.274476</td>\n",
       "      <td>1.524280</td>\n",
       "      <td>0.101451</td>\n",
       "    </tr>\n",
       "    <tr>\n",
       "      <th>2</th>\n",
       "      <td>720</td>\n",
       "      <td>inf</td>\n",
       "      <td>linear</td>\n",
       "      <td>linear</td>\n",
       "      <td>NaN</td>\n",
       "      <td>NaN</td>\n",
       "      <td>NaN</td>\n",
       "      <td>NaN</td>\n",
       "    </tr>\n",
       "  </tbody>\n",
       "</table>\n",
       "</div>"
      ],
      "text/plain": [
       "   von  bis                   u                   w        a_u        b_u  \\\n",
       "0    0   60          hyperbolic  double_logarithmic  22.062868  19.345155   \n",
       "1   60  720  double_logarithmic  double_logarithmic   1.690632   0.274476   \n",
       "2  720  inf              linear              linear        NaN        NaN   \n",
       "\n",
       "        a_w       b_w  \n",
       "0  0.157064  0.435379  \n",
       "1  1.524280  0.101451  \n",
       "2       NaN       NaN  "
      ]
     },
     "execution_count": 10,
     "metadata": {},
     "output_type": "execute_result"
    }
   ],
   "source": [
    "idf.parameter"
   ]
  },
  {
   "cell_type": "markdown",
   "metadata": {},
   "source": [
    "## Berechnungen"
   ]
  },
  {
   "cell_type": "code",
   "execution_count": 11,
   "metadata": {},
   "outputs": [],
   "source": [
    "from IPython.display import Latex\n",
    "def print_latex(string):\n",
    "    Latex('$' + string.replace(' ', '\\;')+ '$')"
   ]
  },
  {
   "cell_type": "code",
   "execution_count": 12,
   "metadata": {},
   "outputs": [
    {
     "data": {
      "text/plain": [
       "9.635799248801103"
      ]
     },
     "execution_count": 12,
     "metadata": {},
     "output_type": "execute_result"
    }
   ],
   "source": [
    "idf.depth_of_rainfall(duration=15, return_period=1)"
   ]
  },
  {
   "cell_type": "code",
   "execution_count": 13,
   "metadata": {
    "scrolled": true
   },
   "outputs": [
    {
     "name": "stdout",
     "output_type": "stream",
     "text": [
      "Resultierende Regenhöhe h_N(T_n=1.0a, D=15.0min) = 9.64 mm\n"
     ]
    }
   ],
   "source": [
    "idf.print_depth_of_rainfall(duration=15, return_period=1)"
   ]
  },
  {
   "cell_type": "code",
   "execution_count": 14,
   "metadata": {},
   "outputs": [
    {
     "data": {
      "text/plain": [
       "107.06443609779004"
      ]
     },
     "execution_count": 14,
     "metadata": {},
     "output_type": "execute_result"
    }
   ],
   "source": [
    "idf.rain_flow_rate(duration=15, return_period=1)"
   ]
  },
  {
   "cell_type": "code",
   "execution_count": 15,
   "metadata": {},
   "outputs": [
    {
     "name": "stdout",
     "output_type": "stream",
     "text": [
      "Resultierende Regenspende r_N(T_n=1.0a, D=15.0min) = 107.06 L/(s*ha)\n"
     ]
    }
   ],
   "source": [
    "idf.print_rain_flow_rate(duration=15, return_period=1)"
   ]
  },
  {
   "cell_type": "code",
   "execution_count": 16,
   "metadata": {},
   "outputs": [
    {
     "data": {
      "text/plain": [
       "7.638689565603002"
      ]
     },
     "execution_count": 16,
     "metadata": {},
     "output_type": "execute_result"
    }
   ],
   "source": [
    "idf.r_720_1()"
   ]
  },
  {
   "cell_type": "code",
   "execution_count": 17,
   "metadata": {},
   "outputs": [
    {
     "data": {
      "text/plain": [
       "1.1004705938364563"
      ]
     },
     "execution_count": 17,
     "metadata": {},
     "output_type": "execute_result"
    }
   ],
   "source": [
    "idf.get_return_period(height_of_rainfall=10, duration=15)"
   ]
  },
  {
   "cell_type": "code",
   "execution_count": 18,
   "metadata": {},
   "outputs": [
    {
     "data": {
      "text/plain": [
       "16.037428575529145"
      ]
     },
     "execution_count": 18,
     "metadata": {},
     "output_type": "execute_result"
    }
   ],
   "source": [
    "idf.get_duration(height_of_rainfall=10, return_period=1)"
   ]
  },
  {
   "cell_type": "code",
   "execution_count": 19,
   "metadata": {},
   "outputs": [
    {
     "data": {
      "text/html": [
       "<div>\n",
       "<style scoped>\n",
       "    .dataframe tbody tr th:only-of-type {\n",
       "        vertical-align: middle;\n",
       "    }\n",
       "\n",
       "    .dataframe tbody tr th {\n",
       "        vertical-align: top;\n",
       "    }\n",
       "\n",
       "    .dataframe thead th {\n",
       "        text-align: right;\n",
       "    }\n",
       "</style>\n",
       "<table border=\"1\" class=\"dataframe\">\n",
       "  <thead>\n",
       "    <tr style=\"text-align: right;\">\n",
       "      <th></th>\n",
       "      <th>0.5</th>\n",
       "      <th>1.0</th>\n",
       "      <th>2.0</th>\n",
       "      <th>3.0</th>\n",
       "      <th>5.0</th>\n",
       "      <th>10.0</th>\n",
       "      <th>15.0</th>\n",
       "      <th>50.0</th>\n",
       "      <th>100.0</th>\n",
       "    </tr>\n",
       "  </thead>\n",
       "  <tbody>\n",
       "    <tr>\n",
       "      <th>5</th>\n",
       "      <td>2.896881</td>\n",
       "      <td>4.531265</td>\n",
       "      <td>6.165648</td>\n",
       "      <td>7.121702</td>\n",
       "      <td>8.326186</td>\n",
       "      <td>9.960570</td>\n",
       "      <td>10.916623</td>\n",
       "      <td>13.755492</td>\n",
       "      <td>15.389875</td>\n",
       "    </tr>\n",
       "    <tr>\n",
       "      <th>10</th>\n",
       "      <td>5.308281</td>\n",
       "      <td>7.518402</td>\n",
       "      <td>9.728523</td>\n",
       "      <td>11.021361</td>\n",
       "      <td>12.650144</td>\n",
       "      <td>14.860265</td>\n",
       "      <td>16.153103</td>\n",
       "      <td>19.992007</td>\n",
       "      <td>22.202128</td>\n",
       "    </tr>\n",
       "    <tr>\n",
       "      <th>15</th>\n",
       "      <td>6.998968</td>\n",
       "      <td>9.635799</td>\n",
       "      <td>12.272631</td>\n",
       "      <td>13.815078</td>\n",
       "      <td>15.758333</td>\n",
       "      <td>18.395164</td>\n",
       "      <td>19.937612</td>\n",
       "      <td>24.517698</td>\n",
       "      <td>27.154529</td>\n",
       "    </tr>\n",
       "    <tr>\n",
       "      <th>20</th>\n",
       "      <td>8.226366</td>\n",
       "      <td>11.215037</td>\n",
       "      <td>14.203707</td>\n",
       "      <td>15.951967</td>\n",
       "      <td>18.154515</td>\n",
       "      <td>21.143185</td>\n",
       "      <td>22.891446</td>\n",
       "      <td>28.082663</td>\n",
       "      <td>31.071334</td>\n",
       "    </tr>\n",
       "    <tr>\n",
       "      <th>30</th>\n",
       "      <td>9.847698</td>\n",
       "      <td>13.413395</td>\n",
       "      <td>16.979091</td>\n",
       "      <td>19.064890</td>\n",
       "      <td>21.692686</td>\n",
       "      <td>25.258383</td>\n",
       "      <td>27.344181</td>\n",
       "      <td>33.537674</td>\n",
       "      <td>37.103371</td>\n",
       "    </tr>\n",
       "    <tr>\n",
       "      <th>45</th>\n",
       "      <td>11.175611</td>\n",
       "      <td>15.429741</td>\n",
       "      <td>19.683871</td>\n",
       "      <td>22.172377</td>\n",
       "      <td>25.307524</td>\n",
       "      <td>29.561654</td>\n",
       "      <td>32.050161</td>\n",
       "      <td>39.439438</td>\n",
       "      <td>43.693568</td>\n",
       "    </tr>\n",
       "    <tr>\n",
       "      <th>60</th>\n",
       "      <td>11.861947</td>\n",
       "      <td>16.683716</td>\n",
       "      <td>21.505485</td>\n",
       "      <td>24.326039</td>\n",
       "      <td>27.879517</td>\n",
       "      <td>32.701286</td>\n",
       "      <td>35.521840</td>\n",
       "      <td>43.897087</td>\n",
       "      <td>48.718856</td>\n",
       "    </tr>\n",
       "    <tr>\n",
       "      <th>90</th>\n",
       "      <td>13.623472</td>\n",
       "      <td>18.647718</td>\n",
       "      <td>23.671965</td>\n",
       "      <td>26.610961</td>\n",
       "      <td>30.313659</td>\n",
       "      <td>35.337905</td>\n",
       "      <td>38.276901</td>\n",
       "      <td>47.003845</td>\n",
       "      <td>52.028092</td>\n",
       "    </tr>\n",
       "    <tr>\n",
       "      <th>180</th>\n",
       "      <td>17.165170</td>\n",
       "      <td>22.555442</td>\n",
       "      <td>27.945714</td>\n",
       "      <td>31.098821</td>\n",
       "      <td>35.071266</td>\n",
       "      <td>40.461537</td>\n",
       "      <td>43.614644</td>\n",
       "      <td>52.977361</td>\n",
       "      <td>58.367633</td>\n",
       "    </tr>\n",
       "    <tr>\n",
       "      <th>270</th>\n",
       "      <td>19.594039</td>\n",
       "      <td>25.210661</td>\n",
       "      <td>30.827284</td>\n",
       "      <td>34.112798</td>\n",
       "      <td>38.252055</td>\n",
       "      <td>43.868678</td>\n",
       "      <td>47.154192</td>\n",
       "      <td>56.910072</td>\n",
       "      <td>62.526695</td>\n",
       "    </tr>\n",
       "    <tr>\n",
       "      <th>360</th>\n",
       "      <td>21.499086</td>\n",
       "      <td>27.282048</td>\n",
       "      <td>33.065011</td>\n",
       "      <td>36.447827</td>\n",
       "      <td>40.709671</td>\n",
       "      <td>46.492634</td>\n",
       "      <td>49.875450</td>\n",
       "      <td>59.920257</td>\n",
       "      <td>65.703219</td>\n",
       "    </tr>\n",
       "    <tr>\n",
       "      <th>450</th>\n",
       "      <td>23.089871</td>\n",
       "      <td>29.005242</td>\n",
       "      <td>34.920612</td>\n",
       "      <td>38.380882</td>\n",
       "      <td>42.740307</td>\n",
       "      <td>48.655677</td>\n",
       "      <td>52.115947</td>\n",
       "      <td>62.390742</td>\n",
       "      <td>68.306113</td>\n",
       "    </tr>\n",
       "    <tr>\n",
       "      <th>600</th>\n",
       "      <td>25.297845</td>\n",
       "      <td>31.388403</td>\n",
       "      <td>37.478961</td>\n",
       "      <td>41.041709</td>\n",
       "      <td>45.530241</td>\n",
       "      <td>51.620799</td>\n",
       "      <td>55.183547</td>\n",
       "      <td>65.762636</td>\n",
       "      <td>71.853194</td>\n",
       "    </tr>\n",
       "    <tr>\n",
       "      <th>720</th>\n",
       "      <td>26.794878</td>\n",
       "      <td>32.999139</td>\n",
       "      <td>39.203400</td>\n",
       "      <td>42.832660</td>\n",
       "      <td>47.404987</td>\n",
       "      <td>53.609248</td>\n",
       "      <td>57.238508</td>\n",
       "      <td>68.015096</td>\n",
       "      <td>74.219358</td>\n",
       "    </tr>\n",
       "    <tr>\n",
       "      <th>720</th>\n",
       "      <td>26.794878</td>\n",
       "      <td>32.999139</td>\n",
       "      <td>39.203400</td>\n",
       "      <td>42.832660</td>\n",
       "      <td>47.404987</td>\n",
       "      <td>53.609248</td>\n",
       "      <td>57.238508</td>\n",
       "      <td>68.015096</td>\n",
       "      <td>74.219358</td>\n",
       "    </tr>\n",
       "    <tr>\n",
       "      <th>1080</th>\n",
       "      <td>30.166502</td>\n",
       "      <td>36.606037</td>\n",
       "      <td>43.045571</td>\n",
       "      <td>46.812458</td>\n",
       "      <td>51.558173</td>\n",
       "      <td>57.997708</td>\n",
       "      <td>61.764594</td>\n",
       "      <td>72.949844</td>\n",
       "      <td>79.389379</td>\n",
       "    </tr>\n",
       "    <tr>\n",
       "      <th>1440</th>\n",
       "      <td>32.094123</td>\n",
       "      <td>39.115447</td>\n",
       "      <td>46.136771</td>\n",
       "      <td>50.243983</td>\n",
       "      <td>55.418457</td>\n",
       "      <td>62.439781</td>\n",
       "      <td>66.546993</td>\n",
       "      <td>78.742791</td>\n",
       "      <td>85.764115</td>\n",
       "    </tr>\n",
       "    <tr>\n",
       "      <th>2880</th>\n",
       "      <td>36.202355</td>\n",
       "      <td>46.628694</td>\n",
       "      <td>57.055033</td>\n",
       "      <td>63.154051</td>\n",
       "      <td>70.837904</td>\n",
       "      <td>81.264243</td>\n",
       "      <td>87.363261</td>\n",
       "      <td>105.473453</td>\n",
       "      <td>115.899792</td>\n",
       "    </tr>\n",
       "    <tr>\n",
       "      <th>4320</th>\n",
       "      <td>39.226922</td>\n",
       "      <td>51.221809</td>\n",
       "      <td>63.216695</td>\n",
       "      <td>70.233254</td>\n",
       "      <td>79.073072</td>\n",
       "      <td>91.067959</td>\n",
       "      <td>98.084518</td>\n",
       "      <td>118.919223</td>\n",
       "      <td>130.914109</td>\n",
       "    </tr>\n",
       "    <tr>\n",
       "      <th>5760</th>\n",
       "      <td>40.655542</td>\n",
       "      <td>53.601510</td>\n",
       "      <td>66.547479</td>\n",
       "      <td>74.120385</td>\n",
       "      <td>83.661118</td>\n",
       "      <td>96.607086</td>\n",
       "      <td>104.179992</td>\n",
       "      <td>126.666693</td>\n",
       "      <td>139.612662</td>\n",
       "    </tr>\n",
       "    <tr>\n",
       "      <th>7200</th>\n",
       "      <td>42.014499</td>\n",
       "      <td>55.549644</td>\n",
       "      <td>69.084789</td>\n",
       "      <td>77.002341</td>\n",
       "      <td>86.977277</td>\n",
       "      <td>100.512422</td>\n",
       "      <td>108.429974</td>\n",
       "      <td>131.940055</td>\n",
       "      <td>145.475200</td>\n",
       "    </tr>\n",
       "    <tr>\n",
       "      <th>8640</th>\n",
       "      <td>43.487047</td>\n",
       "      <td>57.752138</td>\n",
       "      <td>72.017230</td>\n",
       "      <td>80.361773</td>\n",
       "      <td>90.874655</td>\n",
       "      <td>105.139747</td>\n",
       "      <td>113.484290</td>\n",
       "      <td>138.262263</td>\n",
       "      <td>152.527355</td>\n",
       "    </tr>\n",
       "  </tbody>\n",
       "</table>\n",
       "</div>"
      ],
      "text/plain": [
       "          0.5        1.0        2.0        3.0        5.0         10.0   \\\n",
       "5      2.896881   4.531265   6.165648   7.121702   8.326186    9.960570   \n",
       "10     5.308281   7.518402   9.728523  11.021361  12.650144   14.860265   \n",
       "15     6.998968   9.635799  12.272631  13.815078  15.758333   18.395164   \n",
       "20     8.226366  11.215037  14.203707  15.951967  18.154515   21.143185   \n",
       "30     9.847698  13.413395  16.979091  19.064890  21.692686   25.258383   \n",
       "45    11.175611  15.429741  19.683871  22.172377  25.307524   29.561654   \n",
       "60    11.861947  16.683716  21.505485  24.326039  27.879517   32.701286   \n",
       "90    13.623472  18.647718  23.671965  26.610961  30.313659   35.337905   \n",
       "180   17.165170  22.555442  27.945714  31.098821  35.071266   40.461537   \n",
       "270   19.594039  25.210661  30.827284  34.112798  38.252055   43.868678   \n",
       "360   21.499086  27.282048  33.065011  36.447827  40.709671   46.492634   \n",
       "450   23.089871  29.005242  34.920612  38.380882  42.740307   48.655677   \n",
       "600   25.297845  31.388403  37.478961  41.041709  45.530241   51.620799   \n",
       "720   26.794878  32.999139  39.203400  42.832660  47.404987   53.609248   \n",
       "720   26.794878  32.999139  39.203400  42.832660  47.404987   53.609248   \n",
       "1080  30.166502  36.606037  43.045571  46.812458  51.558173   57.997708   \n",
       "1440  32.094123  39.115447  46.136771  50.243983  55.418457   62.439781   \n",
       "2880  36.202355  46.628694  57.055033  63.154051  70.837904   81.264243   \n",
       "4320  39.226922  51.221809  63.216695  70.233254  79.073072   91.067959   \n",
       "5760  40.655542  53.601510  66.547479  74.120385  83.661118   96.607086   \n",
       "7200  42.014499  55.549644  69.084789  77.002341  86.977277  100.512422   \n",
       "8640  43.487047  57.752138  72.017230  80.361773  90.874655  105.139747   \n",
       "\n",
       "           15.0        50.0        100.0  \n",
       "5      10.916623   13.755492   15.389875  \n",
       "10     16.153103   19.992007   22.202128  \n",
       "15     19.937612   24.517698   27.154529  \n",
       "20     22.891446   28.082663   31.071334  \n",
       "30     27.344181   33.537674   37.103371  \n",
       "45     32.050161   39.439438   43.693568  \n",
       "60     35.521840   43.897087   48.718856  \n",
       "90     38.276901   47.003845   52.028092  \n",
       "180    43.614644   52.977361   58.367633  \n",
       "270    47.154192   56.910072   62.526695  \n",
       "360    49.875450   59.920257   65.703219  \n",
       "450    52.115947   62.390742   68.306113  \n",
       "600    55.183547   65.762636   71.853194  \n",
       "720    57.238508   68.015096   74.219358  \n",
       "720    57.238508   68.015096   74.219358  \n",
       "1080   61.764594   72.949844   79.389379  \n",
       "1440   66.546993   78.742791   85.764115  \n",
       "2880   87.363261  105.473453  115.899792  \n",
       "4320   98.084518  118.919223  130.914109  \n",
       "5760  104.179992  126.666693  139.612662  \n",
       "7200  108.429974  131.940055  145.475200  \n",
       "8640  113.484290  138.262263  152.527355  "
      ]
     },
     "execution_count": 19,
     "metadata": {},
     "output_type": "execute_result"
    }
   ],
   "source": [
    "idf.result_table()"
   ]
  },
  {
   "cell_type": "markdown",
   "metadata": {},
   "source": [
    "To save the table as a csv:"
   ]
  },
  {
   "cell_type": "code",
   "execution_count": 20,
   "metadata": {},
   "outputs": [
    {
     "name": "stdout",
     "output_type": "stream",
     "text": [
      "      0.5    1.0    2.0    3.0    5.0    10.0   15.0   50.0   100.0\n",
      "5       2.9    4.5    6.2    7.1    8.3   10.0   10.9   13.8   15.4\n",
      "10      5.3    7.5    9.7   11.0   12.7   14.9   16.2   20.0   22.2\n",
      "15      7.0    9.6   12.3   13.8   15.8   18.4   19.9   24.5   27.2\n",
      "20      8.2   11.2   14.2   16.0   18.2   21.1   22.9   28.1   31.1\n",
      "30      9.8   13.4   17.0   19.1   21.7   25.3   27.3   33.5   37.1\n",
      "45     11.2   15.4   19.7   22.2   25.3   29.6   32.1   39.4   43.7\n",
      "60     11.9   16.7   21.5   24.3   27.9   32.7   35.5   43.9   48.7\n",
      "90     13.6   18.6   23.7   26.6   30.3   35.3   38.3   47.0   52.0\n",
      "180    17.2   22.6   27.9   31.1   35.1   40.5   43.6   53.0   58.4\n",
      "270    19.6   25.2   30.8   34.1   38.3   43.9   47.2   56.9   62.5\n",
      "360    21.5   27.3   33.1   36.4   40.7   46.5   49.9   59.9   65.7\n",
      "450    23.1   29.0   34.9   38.4   42.7   48.7   52.1   62.4   68.3\n",
      "600    25.3   31.4   37.5   41.0   45.5   51.6   55.2   65.8   71.9\n",
      "720    26.8   33.0   39.2   42.8   47.4   53.6   57.2   68.0   74.2\n",
      "720    26.8   33.0   39.2   42.8   47.4   53.6   57.2   68.0   74.2\n",
      "1080   30.2   36.6   43.0   46.8   51.6   58.0   61.8   72.9   79.4\n",
      "1440   32.1   39.1   46.1   50.2   55.4   62.4   66.5   78.7   85.8\n",
      "2880   36.2   46.6   57.1   63.2   70.8   81.3   87.4  105.5  115.9\n",
      "4320   39.2   51.2   63.2   70.2   79.1   91.1   98.1  118.9  130.9\n",
      "5760   40.7   53.6   66.5   74.1   83.7   96.6  104.2  126.7  139.6\n",
      "7200   42.0   55.5   69.1   77.0   87.0  100.5  108.4  131.9  145.5\n",
      "8640   43.5   57.8   72.0   80.4   90.9  105.1  113.5  138.3  152.5\n"
     ]
    }
   ],
   "source": [
    "idf.write_table()"
   ]
  },
  {
   "cell_type": "code",
   "execution_count": 21,
   "metadata": {},
   "outputs": [
    {
     "name": "stdout",
     "output_type": "stream",
     "text": [
      "return period (a) 0.5   1.0   2.0   3.0   5.0    10.0   15.0   50.0   100.0\n",
      "frequency (1/a)   2.000 1.000 0.500 0.333 0.200  0.100  0.067  0.020  0.010\n",
      "duration (min)                                                             \n",
      "5                   2.9   4.5   6.2   7.1   8.3   10.0   10.9   13.8   15.4\n",
      "10                  5.3   7.5   9.7  11.0  12.7   14.9   16.2   20.0   22.2\n",
      "15                  7.0   9.6  12.3  13.8  15.8   18.4   19.9   24.5   27.2\n",
      "20                  8.2  11.2  14.2  16.0  18.2   21.1   22.9   28.1   31.1\n",
      "30                  9.8  13.4  17.0  19.1  21.7   25.3   27.3   33.5   37.1\n",
      "45                 11.2  15.4  19.7  22.2  25.3   29.6   32.1   39.4   43.7\n",
      "60                 11.9  16.7  21.5  24.3  27.9   32.7   35.5   43.9   48.7\n",
      "90                 13.6  18.6  23.7  26.6  30.3   35.3   38.3   47.0   52.0\n",
      "180                17.2  22.6  27.9  31.1  35.1   40.5   43.6   53.0   58.4\n",
      "270                19.6  25.2  30.8  34.1  38.3   43.9   47.2   56.9   62.5\n",
      "360                21.5  27.3  33.1  36.4  40.7   46.5   49.9   59.9   65.7\n",
      "450                23.1  29.0  34.9  38.4  42.7   48.7   52.1   62.4   68.3\n",
      "600                25.3  31.4  37.5  41.0  45.5   51.6   55.2   65.8   71.9\n",
      "720                26.8  33.0  39.2  42.8  47.4   53.6   57.2   68.0   74.2\n",
      "720                26.8  33.0  39.2  42.8  47.4   53.6   57.2   68.0   74.2\n",
      "1080               30.2  36.6  43.0  46.8  51.6   58.0   61.8   72.9   79.4\n",
      "1440               32.1  39.1  46.1  50.2  55.4   62.4   66.5   78.7   85.8\n",
      "2880               36.2  46.6  57.1  63.2  70.8   81.3   87.4  105.5  115.9\n",
      "4320               39.2  51.2  63.2  70.2  79.1   91.1   98.1  118.9  130.9\n",
      "5760               40.7  53.6  66.5  74.1  83.7   96.6  104.2  126.7  139.6\n",
      "7200               42.0  55.5  69.1  77.0  87.0  100.5  108.4  131.9  145.5\n",
      "8640               43.5  57.8  72.0  80.4  90.9  105.1  113.5  138.3  152.5\n"
     ]
    }
   ],
   "source": [
    "idf.write_table(add_names=True)"
   ]
  },
  {
   "cell_type": "code",
   "execution_count": 22,
   "metadata": {},
   "outputs": [
    {
     "name": "stdout",
     "output_type": "stream",
     "text": [
      "\u001b[01;34mexample/EXAMPLE_data\u001b[00m\r\n",
      "├── EXAMPLE_interim_results.csv\r\n",
      "└── EXAMPLE_results_h_N.csv\r\n",
      "\r\n",
      "0 directories, 2 files\r\n"
     ]
    }
   ],
   "source": [
    "! tree example/EXAMPLE_data"
   ]
  },
  {
   "cell_type": "code",
   "execution_count": 23,
   "metadata": {},
   "outputs": [],
   "source": [
    "from ipywidgets import interact, fixed, interact_manual\n",
    "import ipywidgets as widgets"
   ]
  },
  {
   "cell_type": "code",
   "execution_count": 24,
   "metadata": {},
   "outputs": [],
   "source": [
    "def f(min_duration = 5, max_duration=720, color=True, logx=False):\n",
    "    fig = idf.result_figure(return_periods=[1,2,5,10,50], \n",
    "                            min_duration=min_duration, \n",
    "                            max_duration=max_duration, \n",
    "                            color=color, \n",
    "                            logx=logx)"
   ]
  },
  {
   "cell_type": "code",
   "execution_count": 25,
   "metadata": {},
   "outputs": [
    {
     "data": {
      "application/vnd.jupyter.widget-view+json": {
       "model_id": "843bebf1a2554fe5b014cd07d1a61fd0",
       "version_major": 2,
       "version_minor": 0
      },
      "text/plain": [
       "interactive(children=(IntSlider(value=5, description='min_duration', max=60, step=5), IntSlider(value=720, des…"
      ]
     },
     "metadata": {},
     "output_type": "display_data"
    },
    {
     "data": {
      "text/plain": [
       "<function __main__.f(min_duration=5, max_duration=720, color=True, logx=False)>"
      ]
     },
     "execution_count": 25,
     "metadata": {},
     "output_type": "execute_result"
    }
   ],
   "source": [
    "interact(f, min_duration = (0,60,5), max_duration=(60,8640, 60), color=True, logx=False)"
   ]
  },
  {
   "cell_type": "markdown",
   "metadata": {},
   "source": [
    "To save the plot as a png use:"
   ]
  },
  {
   "cell_type": "code",
   "execution_count": 26,
   "metadata": {},
   "outputs": [
    {
     "data": {
      "text/plain": [
       "'example/EXAMPLE_data/EXAMPLE_idf_plot.png'"
      ]
     },
     "execution_count": 26,
     "metadata": {},
     "output_type": "execute_result"
    }
   ],
   "source": [
    "idf.result_plot()"
   ]
  },
  {
   "cell_type": "code",
   "execution_count": 27,
   "metadata": {},
   "outputs": [
    {
     "name": "stdout",
     "output_type": "stream",
     "text": [
      "\u001b[01;34mexample/EXAMPLE_data\u001b[00m\r\n",
      "├── \u001b[01;35mEXAMPLE_idf_plot.png\u001b[00m\r\n",
      "├── EXAMPLE_interim_results.csv\r\n",
      "└── EXAMPLE_results_h_N.csv\r\n",
      "\r\n",
      "0 directories, 3 files\r\n"
     ]
    }
   ],
   "source": [
    "! tree example/EXAMPLE_data"
   ]
  }
 ],
 "metadata": {
  "kernelspec": {
   "display_name": "Python 3",
   "language": "python",
   "name": "python3"
  },
  "language_info": {
   "codemirror_mode": {
    "name": "ipython",
    "version": 3
   },
   "file_extension": ".py",
   "mimetype": "text/x-python",
   "name": "python",
   "nbconvert_exporter": "python",
   "pygments_lexer": "ipython3",
   "version": "3.6.7"
  }
 },
 "nbformat": 4,
 "nbformat_minor": 1
}
